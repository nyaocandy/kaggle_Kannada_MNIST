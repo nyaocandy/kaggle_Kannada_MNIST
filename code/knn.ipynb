{
 "cells": [
  {
   "cell_type": "code",
   "execution_count": 1,
   "metadata": {},
   "outputs": [
    {
     "name": "stderr",
     "output_type": "stream",
     "text": [
      "/Users/yaonie/opt/anaconda3/lib/python3.7/site-packages/requests/__init__.py:91: RequestsDependencyWarning: urllib3 (1.26.2) or chardet (3.0.4) doesn't match a supported version!\n",
      "  RequestsDependencyWarning)\n"
     ]
    },
    {
     "name": "stdout",
     "output_type": "stream",
     "text": [
      "2.0.0\n"
     ]
    }
   ],
   "source": [
    "# import tensorflow as tf; print(tf.__version__)"
   ]
  },
  {
   "cell_type": "code",
   "execution_count": 2,
   "metadata": {},
   "outputs": [],
   "source": [
    "import numpy as np \n",
    "import pandas as pd \n",
    "import matplotlib.pyplot as plt "
   ]
  },
  {
   "cell_type": "code",
   "execution_count": 17,
   "metadata": {},
   "outputs": [
    {
     "name": "stdout",
     "output_type": "stream",
     "text": [
      "(60000, 785)\n",
      "   label  pixel0  pixel1  pixel2  pixel3  pixel4  pixel5  pixel6  pixel7  \\\n",
      "0      0       0       0       0       0       0       0       0       0   \n",
      "1      1       0       0       0       0       0       0       0       0   \n",
      "2      2       0       0       0       0       0       0       0       0   \n",
      "3      3       0       0       0       0       0       0       0       0   \n",
      "4      4       0       0       0       0       0       0       0       0   \n",
      "\n",
      "   pixel8  ...  pixel774  pixel775  pixel776  pixel777  pixel778  pixel779  \\\n",
      "0       0  ...         0         0         0         0         0         0   \n",
      "1       0  ...         0         0         0         0         0         0   \n",
      "2       0  ...         0         0         0         0         0         0   \n",
      "3       0  ...         0         0         0         0         0         0   \n",
      "4       0  ...         0         0         0         0         0         0   \n",
      "\n",
      "   pixel780  pixel781  pixel782  pixel783  \n",
      "0         0         0         0         0  \n",
      "1         0         0         0         0  \n",
      "2         0         0         0         0  \n",
      "3         0         0         0         0  \n",
      "4         0         0         0         0  \n",
      "\n",
      "[5 rows x 785 columns]\n",
      "(5000, 785)\n",
      "   id  pixel0  pixel1  pixel2  pixel3  pixel4  pixel5  pixel6  pixel7  pixel8  \\\n",
      "0   0       0       0       0       0       0       0       0       0       0   \n",
      "1   1       0       0       0       0       0       0       0       0       0   \n",
      "2   2       0       0       0       0       0       0       0       0       0   \n",
      "3   3       0       0       0       0       0       0       0       0       0   \n",
      "4   4       0       0       0       0       0       0       0       0       0   \n",
      "\n",
      "   ...  pixel774  pixel775  pixel776  pixel777  pixel778  pixel779  pixel780  \\\n",
      "0  ...         0         0         0         0         0         0         0   \n",
      "1  ...         0         0         0         0         0         0         0   \n",
      "2  ...         0         0         0         0         0         0         0   \n",
      "3  ...         0         0         0         0         0         0         0   \n",
      "4  ...         0         0         0         0         0         0         0   \n",
      "\n",
      "   pixel781  pixel782  pixel783  \n",
      "0         0         0         0  \n",
      "1         0         0         0  \n",
      "2         0         0         0  \n",
      "3         0         0         0  \n",
      "4         0         0         0  \n",
      "\n",
      "[5 rows x 785 columns]\n"
     ]
    }
   ],
   "source": [
    "data_dir = \"../data/\"\n",
    "# load csv files to numpy arrays\n",
    "def load_data(data_dir, train_row):\n",
    "    train = pd.read_csv(data_dir + \"train.csv\")\n",
    "    print(train.shape)\n",
    "    print(train.head())\n",
    "#     print(train.shape)\n",
    "#     print(train.head())\n",
    "#     print(train[0:])\n",
    "    X_train = train.values[0:train_row,1:] # 取下标为1-784的列（pixel0 - pixel783）\n",
    "    y_train = train.values[0:train_row,0] # 取下标为0的列 (label)\n",
    "    \n",
    "    \n",
    "    Pred_test = pd.read_csv(data_dir + \"test.csv\").values  # 解释 value\n",
    "    print(Pred_test.shape)\n",
    "    print(pd.read_csv(data_dir + \"test.csv\").head())\n",
    "    return X_train, y_train, Pred_test[:, 1:]\n",
    "\n",
    "train_row = 60000 # 如果想取全部数据，设置为最大值 42000\n",
    "Origin_X_train, Origin_y_train, Origin_X_test = load_data(data_dir, train_row)"
   ]
  },
  {
   "cell_type": "code",
   "execution_count": 9,
   "metadata": {},
   "outputs": [
    {
     "name": "stdout",
     "output_type": "stream",
     "text": [
      "3\n"
     ]
    },
    {
     "data": {
      "image/png": "[encoded data removed]",
      "text/plain": [
       "<Figure size 432x288 with 1 Axes>"
      ]
     },
     "metadata": {
      "needs_background": "light"
     },
     "output_type": "display_data"
    }
   ],
   "source": [
    "row = 3\n",
    "# 展示第i个图\n",
    "# print (X_train[row].reshape((28, 28)))\n",
    "\n",
    "print (Origin_y_train[row])\n",
    "\n",
    "plt.imshow(Origin_X_train[row].reshape((28, 28)))\n",
    "plt.show()"
   ]
  },
  {
   "cell_type": "code",
   "execution_count": 10,
   "metadata": {},
   "outputs": [
    {
     "name": "stdout",
     "output_type": "stream",
     "text": [
      "(4000, 784) (1000, 784) (4000,) (1000,)\n"
     ]
    }
   ],
   "source": [
    "from sklearn.model_selection import train_test_split\n",
    "\n",
    "X_train,X_vali, y_train, y_vali = train_test_split(Origin_X_train,\n",
    "                                                   Origin_y_train,\n",
    "                                                   test_size = 0.2,\n",
    "                                                   random_state = 0)\n",
    "\n",
    "print(X_train.shape, X_vali.shape, y_train.shape, y_vali.shape)"
   ]
  },
  {
   "cell_type": "code",
   "execution_count": 11,
   "metadata": {},
   "outputs": [
    {
     "name": "stdout",
     "output_type": "stream",
     "text": [
      "k = 1 begin \n",
      "              precision    recall  f1-score   support\n",
      "\n",
      "           0       0.94      0.92      0.93       103\n",
      "           1       0.93      0.99      0.96       108\n",
      "           2       0.99      0.96      0.97       113\n",
      "           3       0.97      0.98      0.97        95\n",
      "           4       1.00      0.99      1.00       108\n",
      "           5       0.99      1.00      0.99        95\n",
      "           6       0.95      0.96      0.95        92\n",
      "           7       0.98      0.97      0.97        86\n",
      "           8       1.00      0.98      0.99        96\n",
      "           9       0.98      0.98      0.98       104\n",
      "\n",
      "    accuracy                           0.97      1000\n",
      "   macro avg       0.97      0.97      0.97      1000\n",
      "weighted avg       0.97      0.97      0.97      1000\n",
      "\n",
      "[[ 95   7   1   0   0   0   0   0   0   0]\n",
      " [  1 107   0   0   0   0   0   0   0   0]\n",
      " [  3   0 108   1   0   0   1   0   0   0]\n",
      " [  0   0   0  93   0   0   1   1   0   0]\n",
      " [  0   0   0   0 107   1   0   0   0   0]\n",
      " [  0   0   0   0   0  95   0   0   0   0]\n",
      " [  0   0   0   1   0   0  88   1   0   2]\n",
      " [  0   1   0   1   0   0   1  83   0   0]\n",
      " [  2   0   0   0   0   0   0   0  94   0]\n",
      " [  0   0   0   0   0   0   2   0   0 102]]\n",
      "Complete time: 4.2998340129852295 Secs.\n",
      "k = 2 begin \n",
      "              precision    recall  f1-score   support\n",
      "\n",
      "           0       0.93      0.96      0.95       103\n",
      "           1       0.95      0.98      0.97       108\n",
      "           2       1.00      0.96      0.98       113\n",
      "           3       0.97      0.99      0.98        95\n",
      "           4       0.98      1.00      0.99       108\n",
      "           5       1.00      0.98      0.99        95\n",
      "           6       0.93      0.97      0.95        92\n",
      "           7       0.99      0.94      0.96        86\n",
      "           8       0.98      0.98      0.98        96\n",
      "           9       0.99      0.96      0.98       104\n",
      "\n",
      "    accuracy                           0.97      1000\n",
      "   macro avg       0.97      0.97      0.97      1000\n",
      "weighted avg       0.97      0.97      0.97      1000\n",
      "\n",
      "[[ 99   4   0   0   0   0   0   0   0   0]\n",
      " [  2 106   0   0   0   0   0   0   0   0]\n",
      " [  3   0 108   1   0   0   1   0   0   0]\n",
      " [  0   0   0  94   0   0   1   0   0   0]\n",
      " [  0   0   0   0 108   0   0   0   0   0]\n",
      " [  0   0   0   0   2  93   0   0   0   0]\n",
      " [  0   0   0   1   0   0  89   1   0   1]\n",
      " [  0   1   0   1   0   0   3  81   0   0]\n",
      " [  2   0   0   0   0   0   0   0  94   0]\n",
      " [  0   0   0   0   0   0   2   0   2 100]]\n",
      "Complete time: 4.307682991027832 Secs.\n",
      "k = 3 begin \n",
      "              precision    recall  f1-score   support\n",
      "\n",
      "           0       0.93      0.95      0.94       103\n",
      "           1       0.95      0.98      0.96       108\n",
      "           2       1.00      0.96      0.98       113\n",
      "           3       0.99      0.98      0.98        95\n",
      "           4       1.00      1.00      1.00       108\n",
      "           5       1.00      1.00      1.00        95\n",
      "           6       0.97      0.98      0.97        92\n",
      "           7       0.95      0.97      0.96        86\n",
      "           8       1.00      0.98      0.99        96\n",
      "           9       0.99      0.99      0.99       104\n",
      "\n",
      "    accuracy                           0.98      1000\n",
      "   macro avg       0.98      0.98      0.98      1000\n",
      "weighted avg       0.98      0.98      0.98      1000\n",
      "\n",
      "[[ 98   5   0   0   0   0   0   0   0   0]\n",
      " [  2 106   0   0   0   0   0   0   0   0]\n",
      " [  3   0 108   0   0   0   1   1   0   0]\n",
      " [  0   0   0  93   0   0   1   1   0   0]\n",
      " [  0   0   0   0 108   0   0   0   0   0]\n",
      " [  0   0   0   0   0  95   0   0   0   0]\n",
      " [  0   0   0   0   0   0  90   1   0   1]\n",
      " [  0   1   0   1   0   0   1  83   0   0]\n",
      " [  2   0   0   0   0   0   0   0  94   0]\n",
      " [  0   0   0   0   0   0   0   1   0 103]]\n",
      "Complete time: 4.326284885406494 Secs.\n",
      "k = 4 begin \n",
      "              precision    recall  f1-score   support\n",
      "\n",
      "           0       0.92      0.95      0.93       103\n",
      "           1       0.95      0.99      0.97       108\n",
      "           2       1.00      0.95      0.97       113\n",
      "           3       0.98      0.99      0.98        95\n",
      "           4       1.00      1.00      1.00       108\n",
      "           5       1.00      1.00      1.00        95\n",
      "           6       0.97      0.98      0.97        92\n",
      "           7       0.97      0.97      0.97        86\n",
      "           8       0.99      0.95      0.97        96\n",
      "           9       0.99      0.98      0.99       104\n",
      "\n",
      "    accuracy                           0.97      1000\n",
      "   macro avg       0.98      0.98      0.98      1000\n",
      "weighted avg       0.98      0.97      0.98      1000\n",
      "\n",
      "[[ 98   5   0   0   0   0   0   0   0   0]\n",
      " [  1 107   0   0   0   0   0   0   0   0]\n",
      " [  3   0 107   1   0   0   1   1   0   0]\n",
      " [  0   0   0  94   0   0   1   0   0   0]\n",
      " [  0   0   0   0 108   0   0   0   0   0]\n",
      " [  0   0   0   0   0  95   0   0   0   0]\n",
      " [  0   0   0   0   0   0  90   1   0   1]\n",
      " [  0   1   0   1   0   0   1  83   0   0]\n",
      " [  5   0   0   0   0   0   0   0  91   0]\n",
      " [  0   0   0   0   0   0   0   1   1 102]]\n",
      "Complete time: 4.419316053390503 Secs.\n",
      "k = 5 begin \n",
      "              precision    recall  f1-score   support\n",
      "\n",
      "           0       0.91      0.93      0.92       103\n",
      "           1       0.93      0.99      0.96       108\n",
      "           2       1.00      0.95      0.97       113\n",
      "           3       0.98      0.97      0.97        95\n",
      "           4       0.99      1.00      1.00       108\n",
      "           5       1.00      1.00      1.00        95\n",
      "           6       0.97      0.97      0.97        92\n",
      "           7       0.94      0.97      0.95        86\n",
      "           8       1.00      0.95      0.97        96\n",
      "           9       0.99      0.99      0.99       104\n",
      "\n",
      "    accuracy                           0.97      1000\n",
      "   macro avg       0.97      0.97      0.97      1000\n",
      "weighted avg       0.97      0.97      0.97      1000\n",
      "\n",
      "[[ 96   7   0   0   0   0   0   0   0   0]\n",
      " [  1 107   0   0   0   0   0   0   0   0]\n",
      " [  3   0 107   1   0   0   1   1   0   0]\n",
      " [  0   0   0  92   1   0   1   1   0   0]\n",
      " [  0   0   0   0 108   0   0   0   0   0]\n",
      " [  0   0   0   0   0  95   0   0   0   0]\n",
      " [  0   0   0   0   0   0  89   2   0   1]\n",
      " [  0   1   0   1   0   0   1  83   0   0]\n",
      " [  5   0   0   0   0   0   0   0  91   0]\n",
      " [  0   0   0   0   0   0   0   1   0 103]]\n",
      "Complete time: 4.308089017868042 Secs.\n",
      "k = 6 begin \n",
      "              precision    recall  f1-score   support\n",
      "\n",
      "           0       0.91      0.93      0.92       103\n",
      "           1       0.93      1.00      0.96       108\n",
      "           2       1.00      0.94      0.97       113\n",
      "           3       0.97      0.99      0.98        95\n",
      "           4       1.00      1.00      1.00       108\n",
      "           5       1.00      1.00      1.00        95\n",
      "           6       0.96      0.98      0.97        92\n",
      "           7       0.96      0.94      0.95        86\n",
      "           8       0.99      0.95      0.97        96\n",
      "           9       0.99      0.98      0.99       104\n",
      "\n",
      "    accuracy                           0.97      1000\n",
      "   macro avg       0.97      0.97      0.97      1000\n",
      "weighted avg       0.97      0.97      0.97      1000\n",
      "\n",
      "[[ 96   7   0   0   0   0   0   0   0   0]\n",
      " [  0 108   0   0   0   0   0   0   0   0]\n",
      " [  4   0 106   1   0   0   2   0   0   0]\n",
      " [  0   0   0  94   0   0   0   1   0   0]\n",
      " [  0   0   0   0 108   0   0   0   0   0]\n",
      " [  0   0   0   0   0  95   0   0   0   0]\n",
      " [  0   0   0   0   0   0  90   1   0   1]\n",
      " [  0   1   0   2   0   0   2  81   0   0]\n",
      " [  5   0   0   0   0   0   0   0  91   0]\n",
      " [  0   0   0   0   0   0   0   1   1 102]]\n",
      "Complete time: 4.306417226791382 Secs.\n",
      "k = 7 begin \n",
      "              precision    recall  f1-score   support\n",
      "\n",
      "           0       0.92      0.93      0.93       103\n",
      "           1       0.93      1.00      0.96       108\n",
      "           2       1.00      0.94      0.97       113\n",
      "           3       0.97      0.98      0.97        95\n",
      "           4       1.00      1.00      1.00       108\n",
      "           5       1.00      0.99      0.99        95\n",
      "           6       0.94      0.98      0.96        92\n",
      "           7       0.95      0.94      0.95        86\n",
      "           8       0.99      0.96      0.97        96\n",
      "           9       0.99      0.97      0.98       104\n",
      "\n",
      "    accuracy                           0.97      1000\n",
      "   macro avg       0.97      0.97      0.97      1000\n",
      "weighted avg       0.97      0.97      0.97      1000\n",
      "\n",
      "[[ 96   7   0   0   0   0   0   0   0   0]\n",
      " [  0 108   0   0   0   0   0   0   0   0]\n",
      " [  4   0 106   1   0   0   2   0   0   0]\n",
      " [  0   0   0  93   0   0   1   1   0   0]\n",
      " [  0   0   0   0 108   0   0   0   0   0]\n",
      " [  0   0   0   0   0  94   0   1   0   0]\n",
      " [  0   0   0   0   0   0  90   1   0   1]\n",
      " [  0   1   0   2   0   0   2  81   0   0]\n",
      " [  4   0   0   0   0   0   0   0  92   0]\n",
      " [  0   0   0   0   0   0   1   1   1 101]]\n",
      "Complete time: 4.346785068511963 Secs.\n"
     ]
    }
   ],
   "source": [
    "import time\n",
    "from sklearn.metrics import accuracy_score,classification_report,confusion_matrix\n",
    "from sklearn.neighbors import KNeighborsClassifier\n",
    "\n",
    "ans_k = 0\n",
    "\n",
    "k_range = range(1, 8)\n",
    "scores = []\n",
    "\n",
    "# 这个地方通过枚举所有的k值来取找到最好的k值预测数据\n",
    "for k in k_range:\n",
    "    print(\"k = \" + str(k) + \" begin \")\n",
    "    start = time.time()\n",
    "    knn = KNeighborsClassifier(n_neighbors=k)\n",
    "    knn.fit(X_train,y_train)\n",
    "    y_pred = knn.predict(X_vali)\n",
    "    accuracy = accuracy_score(y_vali,y_pred)\n",
    "    scores.append(accuracy)\n",
    "    end = time.time()\n",
    "    print(classification_report(y_vali, y_pred))  \n",
    "    print(confusion_matrix(y_vali, y_pred))  \n",
    "    \n",
    "    print(\"Complete time: \" + str(end-start) + \" Secs.\")"
   ]
  },
  {
   "cell_type": "code",
   "execution_count": 12,
   "metadata": {},
   "outputs": [
    {
     "name": "stdout",
     "output_type": "stream",
     "text": [
      "[0.972, 0.972, 0.978, 0.975, 0.971, 0.971, 0.969]\n"
     ]
    },
    {
     "data": {
      "image/png": "[encoded data removed]",
      "text/plain": [
       "<Figure size 432x288 with 1 Axes>"
      ]
     },
     "metadata": {
      "needs_background": "light"
     },
     "output_type": "display_data"
    }
   ],
   "source": [
    "print (scores)\n",
    "plt.plot(k_range,scores)\n",
    "plt.xlabel('Value of K')\n",
    "plt.ylabel('Testing accuracy')\n",
    "plt.show()"
   ]
  },
  {
   "cell_type": "code",
   "execution_count": 18,
   "metadata": {},
   "outputs": [],
   "source": [
    "k = 3\n",
    "\n",
    "knn = KNeighborsClassifier(n_neighbors=k)\n",
    "knn.fit(Origin_X_train,Origin_y_train)\n",
    "y_pred = knn.predict(Origin_X_test)"
   ]
  },
  {
   "cell_type": "code",
   "execution_count": 22,
   "metadata": {},
   "outputs": [
    {
     "name": "stdout",
     "output_type": "stream",
     "text": [
      "5\n"
     ]
    },
    {
     "data": {
      "image/png": "[encoded data removed]",
      "text/plain": [
       "<Figure size 432x288 with 1 Axes>"
      ]
     },
     "metadata": {
      "needs_background": "light"
     },
     "output_type": "display_data"
    }
   ],
   "source": [
    "print (y_pred[100])\n",
    "plt.imshow(Origin_X_test[100].reshape((28, 28)))\n",
    "plt.show()"
   ]
  },
  {
   "cell_type": "code",
   "execution_count": 19,
   "metadata": {},
   "outputs": [
    {
     "name": "stdout",
     "output_type": "stream",
     "text": [
      "5000\n"
     ]
    }
   ],
   "source": [
    "print(len(y_pred))\n",
    "\n",
    "# save submission to csv\n",
    "pd.DataFrame({\"ImageId\": list(range(1,len(y_pred)+1)),\"Label\": y_pred}).to_csv('Digit_Recogniser_Result.csv', index=False,header=True)"
   ]
  },
  {
   "cell_type": "code",
   "execution_count": null,
   "metadata": {},
   "outputs": [],
   "source": []
  }
 ],
 "metadata": {
  "kernelspec": {
   "display_name": "Python 3",
   "language": "python",
   "name": "python3"
  },
  "language_info": {
   "codemirror_mode": {
    "name": "ipython",
    "version": 3
   },
   "file_extension": ".py",
   "mimetype": "text/x-python",
   "name": "python",
   "nbconvert_exporter": "python",
   "pygments_lexer": "ipython3",
   "version": "3.7.4"
  }
 },
 "nbformat": 4,
 "nbformat_minor": 2
}
